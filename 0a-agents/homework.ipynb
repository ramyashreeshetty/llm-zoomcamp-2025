{
 "cells": [
  {
   "cell_type": "markdown",
   "id": "6cc2a021-7f24-40d2-8e57-df6ff1b39ea8",
   "metadata": {},
   "source": [
    "## Q1 Define function description"
   ]
  },
  {
   "cell_type": "code",
   "execution_count": 45,
   "id": "226d37c6-78bf-4cae-a301-83ab33c702c0",
   "metadata": {},
   "outputs": [],
   "source": [
    "import random\n",
    "\n",
    "known_weather_data = {\n",
    "    'berlin': 20.0\n",
    "}\n",
    "\n",
    "def get_weather(city: str) -> float:\n",
    "    city = city.strip().lower()\n",
    "\n",
    "    if city in known_weather_data:\n",
    "        return known_weather_data[city]\n",
    "\n",
    "    return round(random.uniform(-5, 35), 1)"
   ]
  },
  {
   "cell_type": "code",
   "execution_count": 82,
   "id": "8ebf725b-6612-411a-9889-f6dd25b769bd",
   "metadata": {},
   "outputs": [],
   "source": [
    "get_weather_tool = {\n",
    "    \"type\": \"function\",\n",
    "    \"name\": \"get_weather\",\n",
    "    \"description\": \"Get weather data for a specific city\",\n",
    "    \"parameters\": {\n",
    "        \"type\": \"object\",\n",
    "        \"properties\": {\n",
    "            \"city\": {\n",
    "                \"type\": \"string\",\n",
    "                \"description\": \"The city to query the weather data\"\n",
    "            }\n",
    "        },\n",
    "        \"required\": [\"city\"],\n",
    "        \"additionalProperties\": False\n",
    "    }\n",
    "}"
   ]
  },
  {
   "cell_type": "markdown",
   "id": "9ffdcaf8-9d3f-4881-9767-c381bd0d1f90",
   "metadata": {},
   "source": [
    "TODO3: city"
   ]
  },
  {
   "cell_type": "code",
   "execution_count": null,
   "id": "993f994b-c8d2-4cff-8430-d79ddf63a6ab",
   "metadata": {},
   "outputs": [],
   "source": [
    "from groq import Groq\n",
    "import os\n",
    "from dotenv import load_dotenv\n",
    "\n",
    "# Cargar .env\n",
    "load_dotenv()\n",
    "api_key = os.getenv(\"GROQ_API_KEY\")"
   ]
  },
  {
   "cell_type": "code",
   "execution_count": 89,
   "id": "123c0c89-3428-45c9-9ab3-f8cd228f2a4b",
   "metadata": {},
   "outputs": [],
   "source": [
    "import chat_assistant\n",
    "\n",
    "tools = chat_assistant.Tools()\n",
    "tools.add_tool(get_weather, get_weather_tool)"
   ]
  },
  {
   "cell_type": "code",
   "execution_count": 90,
   "id": "044e3025-8d4f-49d5-929b-bb6a76577e2b",
   "metadata": {},
   "outputs": [
    {
     "data": {
      "text/plain": [
       "[{'type': 'function',\n",
       "  'name': 'get_weather',\n",
       "  'description': 'Get weather data for a specific city',\n",
       "  'parameters': {'type': 'object',\n",
       "   'properties': {'city': {'type': 'string',\n",
       "     'description': 'The city to query the weather data'}},\n",
       "   'required': ['city'],\n",
       "   'additionalProperties': False}}]"
      ]
     },
     "execution_count": 90,
     "metadata": {},
     "output_type": "execute_result"
    }
   ],
   "source": [
    "tools.get_tools()"
   ]
  },
  {
   "cell_type": "code",
   "execution_count": 91,
   "id": "7f0042ae-7611-490e-8695-77490d9ed51f",
   "metadata": {},
   "outputs": [],
   "source": [
    "client = Groq(api_key=api_key)"
   ]
  },
  {
   "cell_type": "code",
   "execution_count": 93,
   "id": "9ea6ef96-d564-4f18-b96a-287c16fd8d80",
   "metadata": {},
   "outputs": [],
   "source": [
    "developer_prompt = \"\"\"\n",
    "You're a course teaching assistant. \n",
    "You're given a question from a course student and your task is to answer it.\n",
    "\n",
    "Use FAQ if your own knowledge is not sufficient to answer the question.\n",
    "\n",
    "At the end of each response, ask the user a follow up question based on your answer.\n",
    "\"\"\".strip()\n",
    "\n",
    "chat_interface = chat_assistant.ChatInterface()\n",
    "\n",
    "chat = chat_assistant.ChatAssistant(\n",
    "    tools=tools,\n",
    "    developer_prompt=developer_prompt,\n",
    "    chat_interface=chat_interface,\n",
    "    client=client\n",
    ")"
   ]
  },
  {
   "cell_type": "code",
   "execution_count": null,
   "id": "a4aa6634-5eba-4dc0-a97c-9c5cdcf502b1",
   "metadata": {},
   "outputs": [],
   "source": []
  },
  {
   "cell_type": "markdown",
   "id": "65cd6784-3891-4a70-ab3d-40350af87b29",
   "metadata": {},
   "source": [
    "## Q2. Adding another tool"
   ]
  },
  {
   "cell_type": "markdown",
   "id": "03d40e87-6dd4-4da8-9fee-bc12c93abf91",
   "metadata": {},
   "source": [
    "def set_weather(city: str, temp: float) -> None:\n",
    "  city = city.strip().lower()\n",
    "  known_weather_data[city] = temp\n",
    "  return 'OK'"
   ]
  },
  {
   "cell_type": "markdown",
   "id": "c2c629fb-e023-41e9-8795-b6e338a49303",
   "metadata": {},
   "source": [
    "Answer:"
   ]
  },
  {
   "cell_type": "code",
   "execution_count": 96,
   "id": "0471c39e-beba-4f64-b2da-f8b8301df97c",
   "metadata": {},
   "outputs": [],
   "source": [
    "set_weather_tool = {\n",
    "  \"type\": \"function\",\n",
    "  \"name\": \"set_weather\",\n",
    "  \"description\": \"Sets the temperature for a specified city or region\",\n",
    "  \"parameters\": {\n",
    "    \"type\": \"object\",\n",
    "    \"properties\": {\n",
    "      \"city\": {\n",
    "        \"type\": \"string\",\n",
    "        \"description\": \"The name of the city, e.g. New York\"\n",
    "      },\n",
    "      \"temp\": {\n",
    "        \"type\": \"number\",\n",
    "        \"description\": \"The temperature to associate with the city, e.g. 20\"\n",
    "      }\n",
    "    },\n",
    "    \"required\": [\"city\", \"temp\"],\n",
    "    \"additionalProperties\": False\n",
    "  }\n",
    "}"
   ]
  },
  {
   "cell_type": "markdown",
   "id": "fbb6ccee-6534-43cf-b102-3b16604a24b8",
   "metadata": {},
   "source": [
    "## Q3. Install FastMCP"
   ]
  },
  {
   "cell_type": "markdown",
   "id": "44d5fd02-19a1-4b6c-9478-0787e07fe0b8",
   "metadata": {},
   "source": [
    "What's the version of FastMCP you installed?\n"
   ]
  },
  {
   "cell_type": "code",
   "execution_count": 99,
   "id": "2e65e350-ece5-4714-9b3e-90db54ac76dc",
   "metadata": {},
   "outputs": [
    {
     "data": {
      "text/plain": [
       "'2.10.5'"
      ]
     },
     "execution_count": 99,
     "metadata": {},
     "output_type": "execute_result"
    }
   ],
   "source": [
    "import fastmcp\n",
    "\n",
    "fastmcp.__version__"
   ]
  },
  {
   "cell_type": "markdown",
   "id": "fec1f28b-c4b5-4760-ac4f-424b79523181",
   "metadata": {},
   "source": [
    "## Q4. Simple MCP Server"
   ]
  },
  {
   "cell_type": "code",
   "execution_count": 100,
   "id": "7663a9c1-7f83-4e21-b136-e077faf7661f",
   "metadata": {},
   "outputs": [],
   "source": [
    "def get_weather(city: str) -> float:\n",
    "    \"\"\"\n",
    "    Retrieves the temperature for a specified city.\n",
    "\n",
    "    Parameters:\n",
    "        city (str): The name of the city for which to retrieve weather data.\n",
    "\n",
    "    Returns:\n",
    "        float: The temperature associated with the city.\n",
    "    \"\"\"\n",
    "    city = city.strip().lower()\n",
    "\n",
    "    if city in known_weather_data:\n",
    "        return known_weather_data[city]\n",
    "\n",
    "    return round(random.uniform(-5, 35), 1)\n",
    "\n",
    "\n",
    "def set_weather(city: str, temp: float) -> None:\n",
    "    \"\"\"\n",
    "    Sets the temperature for a specified city.\n",
    "\n",
    "    Parameters:\n",
    "        city (str): The name of the city for which to set the weather data.\n",
    "        temp (float): The temperature to associate with the city.\n",
    "\n",
    "    Returns:\n",
    "        str: A confirmation string 'OK' indicating successful update.\n",
    "    \"\"\"\n",
    "    city = city.strip().lower()\n",
    "    known_weather_data[city] = temp\n",
    "    return 'OK'"
   ]
  },
  {
   "cell_type": "markdown",
   "id": "c3ceda0a-9812-4791-bc01-f5a340397290",
   "metadata": {},
   "source": [
    "What do you see in the output?\n",
    "Starting MCP server 'WeatherBot ' with transport 'stdio'"
   ]
  },
  {
   "cell_type": "markdown",
   "id": "2163abf5-3863-42c5-bf53-0e28dd4a247a",
   "metadata": {},
   "source": [
    "## Q5. Protocol"
   ]
  },
  {
   "cell_type": "markdown",
   "id": "5794c35a-bebd-4b5e-9f2a-4b51b7cbe123",
   "metadata": {},
   "source": [
    "There are different ways to communicate with an MCP server. Ours is currently running using standart input/output, which means that the client write something to stdin and read the answer using stdout.\n",
    "\n",
    "Let's ask the temperature in Berlin:\n",
    "\n",
    "{\"jsonrpc\": \"2.0\", \"id\": 3, \"method\": \"tools/call\", \"params\": {\"name\": \"<TODO>\", \"arguments\": {<TODO>}}}\n",
    "\n",
    "What did you get in response?\n",
    "\n",
    "{\"jsonrpc\": \"2.0\", \"id\": 3, \"method\": \"tools/call\", \"params\": {\"name\": \"get_weather\", \"arguments\": { \"city\": \"Berlin\" } } }\n",
    "\n",
    "Answer:\n",
    "{\"jsonrpc\":\"2.0\",\"id\":3,\"result\":{\"content\":[{\"type\":\"text\",\"text\":\"20.0\"}],\"structuredContent\":{\"result\":20.0},\"isError\":false}}"
   ]
  },
  {
   "cell_type": "markdown",
   "id": "c4036ced-b3e2-4f2a-9aab-8f7d4dae41f6",
   "metadata": {},
   "source": [
    "## Q6. Client"
   ]
  },
  {
   "cell_type": "markdown",
   "id": "ba9a90da-e154-41bf-84f8-44bf534612a4",
   "metadata": {},
   "source": [
    "We typically don't interact with the server by copy-pasting commands in the terminal.\n",
    "\n",
    "In practice, we use an MCP Client. Let's implement it.\n",
    "\n",
    "Use the client to get the list of available tools of our script. How does the result look like?"
   ]
  },
  {
   "cell_type": "code",
   "execution_count": 104,
   "id": "94715e99-2cd7-4082-88e9-79a46a6b0e76",
   "metadata": {},
   "outputs": [
    {
     "data": {
      "text/plain": [
       "[Tool(name='get_weather', title=None, description='Retrieves the temperature for a specified city.\\n\\nParameters:\\n    city (str): The name of the city for which to retrieve weather data.\\n\\nReturns:\\n    float: The temperature associated with the city.', inputSchema={'properties': {'city': {'title': 'City', 'type': 'string'}}, 'required': ['city'], 'type': 'object'}, outputSchema={'properties': {'result': {'title': 'Result', 'type': 'number'}}, 'required': ['result'], 'title': '_WrappedResult', 'type': 'object', 'x-fastmcp-wrap-result': True}, annotations=None, meta=None),\n",
       " Tool(name='set_weather', title=None, description=\"Sets the temperature for a specified city.\\n\\nParameters:\\n    city (str): The name of the city for which to set the weather data.\\n    temp (float): The temperature to associate with the city.\\n\\nReturns:\\n    str: A confirmation string 'OK' indicating successful update.\", inputSchema={'properties': {'city': {'title': 'City', 'type': 'string'}, 'temp': {'title': 'Temp', 'type': 'number'}}, 'required': ['city', 'temp'], 'type': 'object'}, outputSchema=None, annotations=None, meta=None),\n",
       " Tool(name='get_known_weather_data', title=None, description='Retrieves the known weather data.\\n\\nReturns:\\n    dict: A dictionary containing city names as keys and their associated temperatures as values.', inputSchema={'properties': {}, 'type': 'object'}, outputSchema={'additionalProperties': True, 'type': 'object'}, annotations=None, meta=None)]"
      ]
     },
     "execution_count": 104,
     "metadata": {},
     "output_type": "execute_result"
    }
   ],
   "source": [
    "from fastmcp import Client\n",
    "import server\n",
    "import json\n",
    "\n",
    "async def main():\n",
    "  async with Client(server.mcp) as mcp_client:\n",
    "    return await mcp_client.list_tools()\n",
    "\n",
    "tool_list = await main()\n",
    "\n",
    "tool_list"
   ]
  },
  {
   "cell_type": "code",
   "execution_count": null,
   "id": "0fa539d0-34e5-4587-a5e0-8a7a1be7298f",
   "metadata": {},
   "outputs": [],
   "source": []
  }
 ],
 "metadata": {
  "kernelspec": {
   "display_name": "Python 3 (ipykernel)",
   "language": "python",
   "name": "python3"
  },
  "language_info": {
   "codemirror_mode": {
    "name": "ipython",
    "version": 3
   },
   "file_extension": ".py",
   "mimetype": "text/x-python",
   "name": "python",
   "nbconvert_exporter": "python",
   "pygments_lexer": "ipython3",
   "version": "3.12.1"
  }
 },
 "nbformat": 4,
 "nbformat_minor": 5
}
