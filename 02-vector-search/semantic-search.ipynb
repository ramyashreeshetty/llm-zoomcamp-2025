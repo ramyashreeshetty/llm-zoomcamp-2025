{
 "cells": [
  {
   "cell_type": "markdown",
   "id": "2eed6cf0-80cf-4256-93af-cc111d916fc2",
   "metadata": {},
   "source": [
    "## Step 1: Import Required Libraries & Connect to Qdrant"
   ]
  },
  {
   "cell_type": "code",
   "execution_count": null,
   "id": "0c34b39f-65bb-48e5-9c66-a03c01661a4a",
   "metadata": {},
   "outputs": [],
   "source": [
    "pip install -q \"qdrant-client[fastembed]>=1.14.2\""
   ]
  },
  {
   "cell_type": "code",
   "execution_count": null,
   "id": "01fa1f93-7fc7-4dc4-b0d8-46512e37b651",
   "metadata": {},
   "outputs": [],
   "source": [
    "pip install --upgrade pip"
   ]
  },
  {
   "cell_type": "code",
   "execution_count": null,
   "id": "3c3a30d8-852c-4574-ab20-3c5d95a9c06a",
   "metadata": {},
   "outputs": [],
   "source": [
    "from qdrant_client import QdrantClient, models"
   ]
  },
  {
   "cell_type": "code",
   "execution_count": null,
   "id": "e7ebc395-2dfb-462a-be09-542a2b87e2b9",
   "metadata": {},
   "outputs": [],
   "source": [
    "client = QdrantClient(url='http://localhost:6333')"
   ]
  },
  {
   "cell_type": "markdown",
   "id": "2a5d10ad-c3d5-42c6-a683-582543877f59",
   "metadata": {},
   "source": [
    "### Step 2: Study the Dataset"
   ]
  },
  {
   "cell_type": "code",
   "execution_count": null,
   "id": "7798ab5c-d1a7-4218-b0ef-ec1707ffa452",
   "metadata": {},
   "outputs": [],
   "source": [
    "import requests\n",
    "\n",
    "docs_url = 'https://github.com/alexeygrigorev/llm-rag-workshop/raw/main/notebooks/documents.json'\n",
    "docs_response = requests.get(docs_url)\n",
    "documents_raw = docs_response.json()"
   ]
  },
  {
   "cell_type": "code",
   "execution_count": null,
   "id": "33058082-01a4-456f-9e17-fa9c2e6a39c6",
   "metadata": {},
   "outputs": [],
   "source": [
    "documents_raw"
   ]
  },
  {
   "cell_type": "markdown",
   "id": "84d13d3d-236b-4080-9f24-9abc341989a4",
   "metadata": {},
   "source": [
    "## Step 3: Choosing the Embedding Model with FastEmbed"
   ]
  },
  {
   "cell_type": "code",
   "execution_count": null,
   "id": "baa7c589-3840-4da4-bda6-328b13568277",
   "metadata": {},
   "outputs": [],
   "source": [
    "from fastembed import TextEmbedding\n",
    "TextEmbedding.list_supported_models()"
   ]
  },
  {
   "cell_type": "code",
   "execution_count": null,
   "id": "9d36223f-5ad4-433b-8a16-3694911da9e0",
   "metadata": {},
   "outputs": [],
   "source": [
    "import json\n",
    "\n",
    "EMBEDDING_DIMENSIONALITY = 512\n",
    "\n",
    "for model in TextEmbedding.list_supported_models():\n",
    "    if model[\"dim\"] == EMBEDDING_DIMENSIONALITY:\n",
    "        print(json.dumps(model, indent=2))"
   ]
  },
  {
   "cell_type": "code",
   "execution_count": null,
   "id": "3c815ed5-bdcd-4e32-b5bb-0898a3fec625",
   "metadata": {},
   "outputs": [],
   "source": [
    "model_handle = \"jinaai/jina-embeddings-v2-small-en\""
   ]
  },
  {
   "cell_type": "markdown",
   "id": "10b548e8-d75a-4a27-ac27-1210f3afb826",
   "metadata": {},
   "source": [
    "## Step 4: Create a Collection"
   ]
  },
  {
   "cell_type": "code",
   "execution_count": null,
   "id": "2311018b-48df-4972-92e4-be75fabad833",
   "metadata": {},
   "outputs": [],
   "source": [
    "collection_name = \"zoomcamp-rag\""
   ]
  },
  {
   "cell_type": "code",
   "execution_count": null,
   "id": "784ff3a4-0fdc-433f-a936-210a8d9c72dc",
   "metadata": {},
   "outputs": [],
   "source": [
    "client.create_collection(\n",
    "    collection_name = collection_name,\n",
    "    vectors_config = models.VectorParams(\n",
    "        size = EMBEDDING_DIMENSIONALITY,\n",
    "        distance=models.Distance.COSINE\n",
    "    )\n",
    ")"
   ]
  },
  {
   "cell_type": "markdown",
   "id": "534a8c31-252b-4f27-8f22-5dcfc2a12839",
   "metadata": {},
   "source": [
    "## Step 5: Create, Embed & Insert Points into the Collection"
   ]
  },
  {
   "cell_type": "markdown",
   "id": "ea6bf8a0-9ee3-491f-ba58-7f098548fbb6",
   "metadata": {},
   "source": [
    "Points are the core data entities in Qdrant. Each point consists of:\n",
    "\n",
    "ID. A unique identifier. Qdrant supports both 64-bit unsigned integers and UUIDs.\n",
    "Vector. The embedding that represents the data point in vector space.\n",
    "Payload (optional). Additional metadata as key-value pairs."
   ]
  },
  {
   "cell_type": "code",
   "execution_count": null,
   "id": "b35be3a4-469b-46e8-b3eb-f7f5648d0dc7",
   "metadata": {},
   "outputs": [],
   "source": [
    "points = []\n",
    "id = 0\n",
    "\n",
    "for course in documents_raw:\n",
    "    for doc in course['documents']:\n",
    "\n",
    "        point = models.PointStruct(\n",
    "            id=id,\n",
    "            vector=models.Document(text=doc['text'], model=model_handle), #embed text locally with \"jinaai/jina-embeddings-v2-small-en\" from FastEmbed\n",
    "            payload={\n",
    "                \"text\": doc['text'],\n",
    "                \"section\": doc['section'],\n",
    "                \"course\": course['course']\n",
    "            } #save all needed metadata fields\n",
    "        )\n",
    "        points.append(point)\n",
    "\n",
    "        id += 1"
   ]
  },
  {
   "cell_type": "code",
   "execution_count": null,
   "id": "0886af6e-b32a-4d27-8976-05e253eaf095",
   "metadata": {},
   "outputs": [],
   "source": [
    "client.upsert(\n",
    "    collection_name=collection_name,\n",
    "    points=points\n",
    ")"
   ]
  },
  {
   "cell_type": "markdown",
   "id": "76ee63d6-adf2-4338-86f4-847d7fcbba15",
   "metadata": {},
   "source": [
    "## Step 6: Running a Similarity Search"
   ]
  },
  {
   "cell_type": "code",
   "execution_count": null,
   "id": "a7927785-126f-4d1a-9000-5dbb0af50ec5",
   "metadata": {},
   "outputs": [],
   "source": [
    "def search(query, limit=1):\n",
    "\n",
    "    results = client.query_points(\n",
    "        collection_name=collection_name,\n",
    "        query=models.Document( #embed the query text locally with \"jinaai/jina-embeddings-v2-small-en\"\n",
    "            text=query,\n",
    "            model=model_handle \n",
    "        ),\n",
    "        limit=limit, # top closest matches\n",
    "        with_payload=True #to get metadata in the results\n",
    "    )\n",
    "\n",
    "    return results"
   ]
  },
  {
   "cell_type": "code",
   "execution_count": null,
   "id": "166f6f0a-4a6e-4fe7-bbca-71f98977e471",
   "metadata": {},
   "outputs": [],
   "source": [
    "import random\n",
    "\n",
    "course = random.choice(documents_raw)\n",
    "course_piece = random.choice(course['documents'])\n",
    "print(json.dumps(course_piece, indent=2))"
   ]
  },
  {
   "cell_type": "code",
   "execution_count": null,
   "id": "daf8b54b-5c46-419b-9f57-55fb6b94146f",
   "metadata": {},
   "outputs": [],
   "source": [
    "result = search(course_piece['question'])"
   ]
  },
  {
   "cell_type": "code",
   "execution_count": null,
   "id": "7e3fd018-f4aa-49ef-b36a-563d59fca708",
   "metadata": {},
   "outputs": [],
   "source": [
    "result"
   ]
  },
  {
   "cell_type": "code",
   "execution_count": null,
   "id": "8f206b40-2195-49e4-9440-2c46b24f2dcd",
   "metadata": {},
   "outputs": [],
   "source": [
    "print(f\"Question:\\n{course_piece['question']}\\n\")\n",
    "print(\"Top Retrieved Answer:\\n{}\\n\".format(result.points[0].payload['text']))\n",
    "print(\"Original Answer:\\n{}\".format(course_piece['text']))"
   ]
  },
  {
   "cell_type": "code",
   "execution_count": null,
   "id": "55f2b70b-a743-4f73-a131-5406bd96e043",
   "metadata": {},
   "outputs": [],
   "source": [
    "print(search(\"What if I submit homeworks late?\").points[0].payload['text'])"
   ]
  },
  {
   "cell_type": "markdown",
   "id": "e3b8e257-7778-4949-8e55-8d52ff86a4d4",
   "metadata": {},
   "source": [
    "## Step 7: Running a Similarity Search with Filters"
   ]
  },
  {
   "cell_type": "code",
   "execution_count": null,
   "id": "d1d45efc-5f9a-43a1-a3fb-5118b57a605f",
   "metadata": {},
   "outputs": [],
   "source": [
    "client.create_payload_index(\n",
    "    collection_name=collection_name,\n",
    "    field_name=\"course\",\n",
    "    field_schema=\"keyword\" # exact matching on string metadata fields\n",
    ")"
   ]
  },
  {
   "cell_type": "code",
   "execution_count": null,
   "id": "7b52f477-5569-4d51-bcf7-fed07991a465",
   "metadata": {},
   "outputs": [],
   "source": [
    "def search_in_course(query, course=\"mlops-zoomcamp\", limit=1):\n",
    "\n",
    "    results = client.query_points(\n",
    "        collection_name=collection_name,\n",
    "        query=models.Document( #embed the query text locally with \"jinaai/jina-embeddings-v2-small-en\"\n",
    "            text=query,\n",
    "            model=model_handle\n",
    "        ),\n",
    "        query_filter=models.Filter( # filter by course name\n",
    "            must=[\n",
    "                models.FieldCondition(\n",
    "                    key=\"course\",\n",
    "                    match=models.MatchValue(value=course)\n",
    "                )\n",
    "            ]\n",
    "        ),\n",
    "        limit=limit, # top closest matches\n",
    "        with_payload=True #to get metadata in the results\n",
    "    )\n",
    "\n",
    "    return results"
   ]
  },
  {
   "cell_type": "code",
   "execution_count": null,
   "id": "72cc0977-d10d-4ba8-b321-f88c6019bbbb",
   "metadata": {},
   "outputs": [],
   "source": [
    "print(search_in_course(\"What if I submit homeworks late?\", \"mlops-zoomcamp\").points[0].payload['text'])\n"
   ]
  },
  {
   "cell_type": "code",
   "execution_count": null,
   "id": "86b28ea0-ac58-4323-8266-8ab4c9269847",
   "metadata": {},
   "outputs": [],
   "source": []
  }
 ],
 "metadata": {
  "kernelspec": {
   "display_name": "Python 3 (ipykernel)",
   "language": "python",
   "name": "python3"
  },
  "language_info": {
   "codemirror_mode": {
    "name": "ipython",
    "version": 3
   },
   "file_extension": ".py",
   "mimetype": "text/x-python",
   "name": "python",
   "nbconvert_exporter": "python",
   "pygments_lexer": "ipython3",
   "version": "3.12.1"
  }
 },
 "nbformat": 4,
 "nbformat_minor": 5
}
