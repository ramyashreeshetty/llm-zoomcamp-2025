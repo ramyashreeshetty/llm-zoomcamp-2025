{
 "cells": [
  {
   "cell_type": "code",
   "execution_count": 2,
   "id": "2b38c746-2064-4eb5-9bfd-a9a3720a400c",
   "metadata": {},
   "outputs": [],
   "source": [
    "from fastembed import TextEmbedding"
   ]
  },
  {
   "cell_type": "markdown",
   "id": "fde10402-71c6-418c-8055-4aa72efb2307",
   "metadata": {},
   "source": [
    "## Q1. Embedding the query"
   ]
  },
  {
   "cell_type": "code",
   "execution_count": 10,
   "id": "3fc4d2d3-ef6e-4abf-8b88-92bc62c602dc",
   "metadata": {},
   "outputs": [],
   "source": [
    "from fastembed import TextEmbedding\n",
    "model_name = \"jinaai/jina-embeddings-v2-small-en\"\n",
    "embedding_model = TextEmbedding(model_name)"
   ]
  },
  {
   "cell_type": "code",
   "execution_count": 11,
   "id": "7d65f287-c06e-40da-924b-8ab2f2e126a3",
   "metadata": {},
   "outputs": [],
   "source": [
    "user_question = \"I just discovered the course. Can I join now?\"\n",
    "embeddings = list(embedding_model.embed([user_question]))"
   ]
  },
  {
   "cell_type": "code",
   "execution_count": 13,
   "id": "2c688672-276e-4327-a9c7-62dbe451ef62",
   "metadata": {},
   "outputs": [
    {
     "name": "stdout",
     "output_type": "stream",
     "text": [
      "Answer embedding: 512\n"
     ]
    }
   ],
   "source": [
    "print('Answer embedding:', len(embeddings[0]))"
   ]
  },
  {
   "cell_type": "code",
   "execution_count": 14,
   "id": "45346b30-f551-45db-a9dc-bfc79cdeb568",
   "metadata": {},
   "outputs": [
    {
     "name": "stdout",
     "output_type": "stream",
     "text": [
      "Minimal value in the array: -0.11726373885183883\n"
     ]
    }
   ],
   "source": [
    "print('Minimal value in the array:', min(embeddings[0]))"
   ]
  },
  {
   "cell_type": "markdown",
   "id": "3fc84bda-dee6-4427-b701-ba454a836a7e",
   "metadata": {},
   "source": [
    "## Q2. Cosine similarity with another vector"
   ]
  },
  {
   "cell_type": "code",
   "execution_count": 21,
   "id": "900592c4-3594-465c-9d85-6f9899992cc1",
   "metadata": {},
   "outputs": [
    {
     "data": {
      "text/plain": [
       "np.float64(1.0)"
      ]
     },
     "execution_count": 21,
     "metadata": {},
     "output_type": "execute_result"
    }
   ],
   "source": [
    "import numpy as np\n",
    "np.linalg.norm(embeddings)"
   ]
  },
  {
   "cell_type": "code",
   "execution_count": 22,
   "id": "b22cd78b-bc8d-4dbb-8f17-824c1d685c4f",
   "metadata": {},
   "outputs": [
    {
     "name": "stdout",
     "output_type": "stream",
     "text": [
      "1.0000000000000002\n"
     ]
    }
   ],
   "source": [
    "print(embeddings[0].dot(embeddings[0]))"
   ]
  },
  {
   "cell_type": "code",
   "execution_count": 47,
   "id": "c7615bb7-bb8b-4c56-affe-93c0cbd05c5c",
   "metadata": {},
   "outputs": [
    {
     "name": "stdout",
     "output_type": "stream",
     "text": [
      "0.9008528895674548\n"
     ]
    }
   ],
   "source": [
    "doc = 'Can I still join the course after the start date?'\n",
    "\n",
    "doc_embedding = list(embedding_model.embed([doc]))[0]\n",
    "res_embedding = embeddings\n",
    "print(res_embedding[0].dot(doc_embedding))"
   ]
  },
  {
   "cell_type": "markdown",
   "id": "fdd48788-c13a-4282-97b5-258de6823479",
   "metadata": {},
   "source": [
    "## 3. Ranking by cosine"
   ]
  },
  {
   "cell_type": "code",
   "execution_count": 48,
   "id": "a40f323a-17ac-41d4-9bac-0469e272b9d0",
   "metadata": {},
   "outputs": [],
   "source": [
    "documents = [{'text': \"Yes, even if you don't register, you're still eligible to submit the homeworks.\\nBe aware, however, that there will be deadlines for turning in the final projects. So don't leave everything for the last minute.\",\n",
    "  'section': 'General course-related questions',\n",
    "  'question': 'Course - Can I still join the course after the start date?',\n",
    "  'course': 'data-engineering-zoomcamp'},\n",
    " {'text': 'Yes, we will keep all the materials after the course finishes, so you can follow the course at your own pace after it finishes.\\nYou can also continue looking at the homeworks and continue preparing for the next cohort. I guess you can also start working on your final capstone project.',\n",
    "  'section': 'General course-related questions',\n",
    "  'question': 'Course - Can I follow the course after it finishes?',\n",
    "  'course': 'data-engineering-zoomcamp'},\n",
    " {'text': \"The purpose of this document is to capture frequently asked technical questions\\nThe exact day and hour of the course will be 15th Jan 2024 at 17h00. The course will start with the first  “Office Hours'' live.1\\nSubscribe to course public Google Calendar (it works from Desktop only).\\nRegister before the course starts using this link.\\nJoin the course Telegram channel with announcements.\\nDon’t forget to register in DataTalks.Club's Slack and join the channel.\",\n",
    "  'section': 'General course-related questions',\n",
    "  'question': 'Course - When will the course start?',\n",
    "  'course': 'data-engineering-zoomcamp'},\n",
    " {'text': 'You can start by installing and setting up all the dependencies and requirements:\\nGoogle cloud account\\nGoogle Cloud SDK\\nPython 3 (installed with Anaconda)\\nTerraform\\nGit\\nLook over the prerequisites and syllabus to see if you are comfortable with these subjects.',\n",
    "  'section': 'General course-related questions',\n",
    "  'question': 'Course - What can I do before the course starts?',\n",
    "  'course': 'data-engineering-zoomcamp'},\n",
    " {'text': 'Star the repo! Share it with friends if you find it useful ❣️\\nCreate a PR if you see you can improve the text or the structure of the repository.',\n",
    "  'section': 'General course-related questions',\n",
    "  'question': 'How can we contribute to the course?',\n",
    "  'course': 'data-engineering-zoomcamp'}]"
   ]
  },
  {
   "cell_type": "code",
   "execution_count": 63,
   "id": "f2d4f747-92a6-4180-8b7c-3dfa62d32f7f",
   "metadata": {},
   "outputs": [],
   "source": [
    "document_list = []\n",
    "\n",
    "for i, doc in enumerate(documents):\n",
    "    text = doc['text']\n",
    "    document_list.append(text)"
   ]
  },
  {
   "cell_type": "code",
   "execution_count": 73,
   "id": "49357aba-60d7-4c63-8284-2a836bead477",
   "metadata": {},
   "outputs": [
    {
     "data": {
      "text/plain": [
       "[0.7629684696540238,\n",
       " 0.8182378150042889,\n",
       " 0.8085397398734189,\n",
       " 0.7133079015686243,\n",
       " 0.7304499234333598]"
      ]
     },
     "execution_count": 73,
     "metadata": {},
     "output_type": "execute_result"
    }
   ],
   "source": [
    "new_doc_embedding = embedding_model.embed(document_list)\n",
    "new_doc_embd_list = list(new_doc_embedding)\n",
    "cos_res = [float(embeddings[0].dot(x)) for x in new_doc_embd_list]\n",
    "cos_res"
   ]
  },
  {
   "cell_type": "code",
   "execution_count": 74,
   "id": "ed7d84de-aad6-4971-b711-ee9cc5b8fe31",
   "metadata": {},
   "outputs": [
    {
     "data": {
      "text/plain": [
       "0.8182378150042889"
      ]
     },
     "execution_count": 74,
     "metadata": {},
     "output_type": "execute_result"
    }
   ],
   "source": [
    "max_cos = max(cos_res)\n",
    "max_cos"
   ]
  },
  {
   "cell_type": "markdown",
   "id": "4bb1a5a7-f7dd-4bdd-936d-ad8238d67839",
   "metadata": {},
   "source": [
    "## 4. Ranking by cosine, version two"
   ]
  },
  {
   "cell_type": "code",
   "execution_count": 76,
   "id": "f4143eea-e71e-4284-9834-3504e4f62ed7",
   "metadata": {},
   "outputs": [
    {
     "data": {
      "text/plain": [
       "[0.8514543236908068,\n",
       " 0.8436594159113068,\n",
       " 0.8408287048502558,\n",
       " 0.7755157969663908,\n",
       " 0.8086007795043938]"
      ]
     },
     "execution_count": 76,
     "metadata": {},
     "output_type": "execute_result"
    }
   ],
   "source": [
    "text_document_list = []\n",
    "\n",
    "for i, doc in enumerate(documents):\n",
    "    text = doc['question'] + doc['text']\n",
    "    text_document_list.append(text)\n",
    "\n",
    "text_doc_embedding = embedding_model.embed(text_document_list)\n",
    "text_doc_embd_list = list(text_doc_embedding)\n",
    "\n",
    "text_cos = [float(embeddings[0].dot(x)) for x in text_doc_embd_list]\n",
    "text_cos"
   ]
  },
  {
   "cell_type": "code",
   "execution_count": 78,
   "id": "7acdba65-95cc-4ff1-9e9e-338e3c1c9e22",
   "metadata": {},
   "outputs": [
    {
     "data": {
      "text/plain": [
       "0.8514543236908068"
      ]
     },
     "execution_count": 78,
     "metadata": {},
     "output_type": "execute_result"
    }
   ],
   "source": [
    "max_cos = max(text_cos)\n",
    "max_cos"
   ]
  },
  {
   "cell_type": "markdown",
   "id": "1822162e-a1bb-4dfe-99ca-9dd4d2b7e169",
   "metadata": {},
   "source": [
    "## 5. Selecting the embedding model"
   ]
  },
  {
   "cell_type": "code",
   "execution_count": null,
   "id": "55b5629a-0b36-4cff-919a-0ee5b926a4e8",
   "metadata": {},
   "outputs": [],
   "source": [
    "TextEmbedding.list_supported_models()"
   ]
  },
  {
   "cell_type": "code",
   "execution_count": 80,
   "id": "3c2d6ef0-8b8e-477c-80bb-9cb81919023a",
   "metadata": {},
   "outputs": [],
   "source": [
    "model_handle = \"BAAI/bge-small-en\""
   ]
  },
  {
   "cell_type": "code",
   "execution_count": 81,
   "id": "0687be6e-ac2c-475e-8c1d-ae8e5d1bde67",
   "metadata": {},
   "outputs": [
    {
     "name": "stdout",
     "output_type": "stream",
     "text": [
      "{\n",
      "  \"model\": \"BAAI/bge-small-en\",\n",
      "  \"sources\": {\n",
      "    \"hf\": \"Qdrant/bge-small-en\",\n",
      "    \"url\": \"https://storage.googleapis.com/qdrant-fastembed/BAAI-bge-small-en.tar.gz\",\n",
      "    \"_deprecated_tar_struct\": true\n",
      "  },\n",
      "  \"model_file\": \"model_optimized.onnx\",\n",
      "  \"description\": \"Text embeddings, Unimodal (text), English, 512 input tokens truncation, Prefixes for queries/documents: necessary, 2023 year.\",\n",
      "  \"license\": \"mit\",\n",
      "  \"size_in_GB\": 0.13,\n",
      "  \"additional_files\": [],\n",
      "  \"dim\": 384,\n",
      "  \"tasks\": {}\n",
      "}\n"
     ]
    }
   ],
   "source": [
    "import json\n",
    "\n",
    "for model in TextEmbedding.list_supported_models():\n",
    "    if model[\"model\"] == model_handle:\n",
    "        print(json.dumps(model, indent=2))"
   ]
  },
  {
   "cell_type": "code",
   "execution_count": null,
   "id": "d675d4b6-65d2-4052-977d-01144b3f9415",
   "metadata": {},
   "outputs": [],
   "source": [
    "Q6. Indexing with qdrant "
   ]
  }
 ],
 "metadata": {
  "kernelspec": {
   "display_name": "Python 3 (ipykernel)",
   "language": "python",
   "name": "python3"
  },
  "language_info": {
   "codemirror_mode": {
    "name": "ipython",
    "version": 3
   },
   "file_extension": ".py",
   "mimetype": "text/x-python",
   "name": "python",
   "nbconvert_exporter": "python",
   "pygments_lexer": "ipython3",
   "version": "3.12.1"
  }
 },
 "nbformat": 4,
 "nbformat_minor": 5
}
