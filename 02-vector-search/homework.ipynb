{
 "cells": [
  {
   "cell_type": "code",
   "execution_count": 2,
   "id": "2b38c746-2064-4eb5-9bfd-a9a3720a400c",
   "metadata": {},
   "outputs": [],
   "source": [
    "from fastembed import TextEmbedding"
   ]
  },
  {
   "cell_type": "markdown",
   "id": "fde10402-71c6-418c-8055-4aa72efb2307",
   "metadata": {},
   "source": [
    "## Q1. Embedding the query"
   ]
  },
  {
   "cell_type": "code",
   "execution_count": 10,
   "id": "3fc4d2d3-ef6e-4abf-8b88-92bc62c602dc",
   "metadata": {},
   "outputs": [],
   "source": [
    "from fastembed import TextEmbedding\n",
    "model_name = \"jinaai/jina-embeddings-v2-small-en\"\n",
    "embedding_model = TextEmbedding(model_name)"
   ]
  },
  {
   "cell_type": "code",
   "execution_count": 11,
   "id": "7d65f287-c06e-40da-924b-8ab2f2e126a3",
   "metadata": {},
   "outputs": [],
   "source": [
    "user_question = \"I just discovered the course. Can I join now?\"\n",
    "embeddings = list(embedding_model.embed([user_question]))"
   ]
  },
  {
   "cell_type": "code",
   "execution_count": 13,
   "id": "2c688672-276e-4327-a9c7-62dbe451ef62",
   "metadata": {},
   "outputs": [
    {
     "name": "stdout",
     "output_type": "stream",
     "text": [
      "Answer embedding: 512\n"
     ]
    }
   ],
   "source": [
    "print('Answer embedding:', len(embeddings[0]))"
   ]
  },
  {
   "cell_type": "code",
   "execution_count": 14,
   "id": "45346b30-f551-45db-a9dc-bfc79cdeb568",
   "metadata": {},
   "outputs": [
    {
     "name": "stdout",
     "output_type": "stream",
     "text": [
      "Minimal value in the array: -0.11726373885183883\n"
     ]
    }
   ],
   "source": [
    "print('Minimal value in the array:', min(embeddings[0]))"
   ]
  },
  {
   "cell_type": "markdown",
   "id": "3fc84bda-dee6-4427-b701-ba454a836a7e",
   "metadata": {},
   "source": [
    "## Q2. Cosine similarity with another vector"
   ]
  },
  {
   "cell_type": "code",
   "execution_count": 21,
   "id": "900592c4-3594-465c-9d85-6f9899992cc1",
   "metadata": {},
   "outputs": [
    {
     "data": {
      "text/plain": [
       "np.float64(1.0)"
      ]
     },
     "execution_count": 21,
     "metadata": {},
     "output_type": "execute_result"
    }
   ],
   "source": [
    "import numpy as np\n",
    "np.linalg.norm(embeddings)"
   ]
  },
  {
   "cell_type": "code",
   "execution_count": 22,
   "id": "b22cd78b-bc8d-4dbb-8f17-824c1d685c4f",
   "metadata": {},
   "outputs": [
    {
     "name": "stdout",
     "output_type": "stream",
     "text": [
      "1.0000000000000002\n"
     ]
    }
   ],
   "source": [
    "print(embeddings[0].dot(embeddings[0]))"
   ]
  },
  {
   "cell_type": "code",
   "execution_count": 47,
   "id": "c7615bb7-bb8b-4c56-affe-93c0cbd05c5c",
   "metadata": {},
   "outputs": [
    {
     "name": "stdout",
     "output_type": "stream",
     "text": [
      "0.9008528895674548\n"
     ]
    }
   ],
   "source": [
    "doc = 'Can I still join the course after the start date?'\n",
    "\n",
    "doc_embedding = list(embedding_model.embed([doc]))[0]\n",
    "res_embedding = embeddings\n",
    "print(res_embedding[0].dot(doc_embedding))"
   ]
  },
  {
   "cell_type": "markdown",
   "id": "fdd48788-c13a-4282-97b5-258de6823479",
   "metadata": {},
   "source": [
    "## 3. Ranking by cosine"
   ]
  },
  {
   "cell_type": "code",
   "execution_count": 48,
   "id": "a40f323a-17ac-41d4-9bac-0469e272b9d0",
   "metadata": {},
   "outputs": [],
   "source": [
    "documents = [{'text': \"Yes, even if you don't register, you're still eligible to submit the homeworks.\\nBe aware, however, that there will be deadlines for turning in the final projects. So don't leave everything for the last minute.\",\n",
    "  'section': 'General course-related questions',\n",
    "  'question': 'Course - Can I still join the course after the start date?',\n",
    "  'course': 'data-engineering-zoomcamp'},\n",
    " {'text': 'Yes, we will keep all the materials after the course finishes, so you can follow the course at your own pace after it finishes.\\nYou can also continue looking at the homeworks and continue preparing for the next cohort. I guess you can also start working on your final capstone project.',\n",
    "  'section': 'General course-related questions',\n",
    "  'question': 'Course - Can I follow the course after it finishes?',\n",
    "  'course': 'data-engineering-zoomcamp'},\n",
    " {'text': \"The purpose of this document is to capture frequently asked technical questions\\nThe exact day and hour of the course will be 15th Jan 2024 at 17h00. The course will start with the first  “Office Hours'' live.1\\nSubscribe to course public Google Calendar (it works from Desktop only).\\nRegister before the course starts using this link.\\nJoin the course Telegram channel with announcements.\\nDon’t forget to register in DataTalks.Club's Slack and join the channel.\",\n",
    "  'section': 'General course-related questions',\n",
    "  'question': 'Course - When will the course start?',\n",
    "  'course': 'data-engineering-zoomcamp'},\n",
    " {'text': 'You can start by installing and setting up all the dependencies and requirements:\\nGoogle cloud account\\nGoogle Cloud SDK\\nPython 3 (installed with Anaconda)\\nTerraform\\nGit\\nLook over the prerequisites and syllabus to see if you are comfortable with these subjects.',\n",
    "  'section': 'General course-related questions',\n",
    "  'question': 'Course - What can I do before the course starts?',\n",
    "  'course': 'data-engineering-zoomcamp'},\n",
    " {'text': 'Star the repo! Share it with friends if you find it useful ❣️\\nCreate a PR if you see you can improve the text or the structure of the repository.',\n",
    "  'section': 'General course-related questions',\n",
    "  'question': 'How can we contribute to the course?',\n",
    "  'course': 'data-engineering-zoomcamp'}]"
   ]
  },
  {
   "cell_type": "code",
   "execution_count": 63,
   "id": "f2d4f747-92a6-4180-8b7c-3dfa62d32f7f",
   "metadata": {},
   "outputs": [],
   "source": [
    "document_list = []\n",
    "\n",
    "for i, doc in enumerate(documents):\n",
    "    text = doc['text']\n",
    "    document_list.append(text)"
   ]
  },
  {
   "cell_type": "code",
   "execution_count": 73,
   "id": "49357aba-60d7-4c63-8284-2a836bead477",
   "metadata": {},
   "outputs": [
    {
     "data": {
      "text/plain": [
       "[0.7629684696540238,\n",
       " 0.8182378150042889,\n",
       " 0.8085397398734189,\n",
       " 0.7133079015686243,\n",
       " 0.7304499234333598]"
      ]
     },
     "execution_count": 73,
     "metadata": {},
     "output_type": "execute_result"
    }
   ],
   "source": [
    "new_doc_embedding = embedding_model.embed(document_list)\n",
    "new_doc_embd_list = list(new_doc_embedding)\n",
    "cos_res = [float(embeddings[0].dot(x)) for x in new_doc_embd_list]\n",
    "cos_res"
   ]
  },
  {
   "cell_type": "code",
   "execution_count": 74,
   "id": "ed7d84de-aad6-4971-b711-ee9cc5b8fe31",
   "metadata": {},
   "outputs": [
    {
     "data": {
      "text/plain": [
       "0.8182378150042889"
      ]
     },
     "execution_count": 74,
     "metadata": {},
     "output_type": "execute_result"
    }
   ],
   "source": [
    "max_cos = max(cos_res)\n",
    "max_cos"
   ]
  },
  {
   "cell_type": "markdown",
   "id": "4bb1a5a7-f7dd-4bdd-936d-ad8238d67839",
   "metadata": {},
   "source": [
    "## 4. Ranking by cosine, version two"
   ]
  },
  {
   "cell_type": "code",
   "execution_count": 76,
   "id": "f4143eea-e71e-4284-9834-3504e4f62ed7",
   "metadata": {},
   "outputs": [
    {
     "data": {
      "text/plain": [
       "[0.8514543236908068,\n",
       " 0.8436594159113068,\n",
       " 0.8408287048502558,\n",
       " 0.7755157969663908,\n",
       " 0.8086007795043938]"
      ]
     },
     "execution_count": 76,
     "metadata": {},
     "output_type": "execute_result"
    }
   ],
   "source": [
    "text_document_list = []\n",
    "\n",
    "for i, doc in enumerate(documents):\n",
    "    text = doc['question'] + doc['text']\n",
    "    text_document_list.append(text)\n",
    "\n",
    "text_doc_embedding = embedding_model.embed(text_document_list)\n",
    "text_doc_embd_list = list(text_doc_embedding)\n",
    "\n",
    "text_cos = [float(embeddings[0].dot(x)) for x in text_doc_embd_list]\n",
    "text_cos"
   ]
  },
  {
   "cell_type": "code",
   "execution_count": 78,
   "id": "7acdba65-95cc-4ff1-9e9e-338e3c1c9e22",
   "metadata": {},
   "outputs": [
    {
     "data": {
      "text/plain": [
       "0.8514543236908068"
      ]
     },
     "execution_count": 78,
     "metadata": {},
     "output_type": "execute_result"
    }
   ],
   "source": [
    "max_cos = max(text_cos)\n",
    "max_cos"
   ]
  },
  {
   "cell_type": "markdown",
   "id": "1822162e-a1bb-4dfe-99ca-9dd4d2b7e169",
   "metadata": {},
   "source": [
    "## 5. Selecting the embedding model"
   ]
  },
  {
   "cell_type": "code",
   "execution_count": null,
   "id": "55b5629a-0b36-4cff-919a-0ee5b926a4e8",
   "metadata": {},
   "outputs": [],
   "source": [
    "TextEmbedding.list_supported_models()"
   ]
  },
  {
   "cell_type": "code",
   "execution_count": 80,
   "id": "3c2d6ef0-8b8e-477c-80bb-9cb81919023a",
   "metadata": {},
   "outputs": [],
   "source": [
    "model_handle = \"BAAI/bge-small-en\""
   ]
  },
  {
   "cell_type": "code",
   "execution_count": 81,
   "id": "0687be6e-ac2c-475e-8c1d-ae8e5d1bde67",
   "metadata": {},
   "outputs": [
    {
     "name": "stdout",
     "output_type": "stream",
     "text": [
      "{\n",
      "  \"model\": \"BAAI/bge-small-en\",\n",
      "  \"sources\": {\n",
      "    \"hf\": \"Qdrant/bge-small-en\",\n",
      "    \"url\": \"https://storage.googleapis.com/qdrant-fastembed/BAAI-bge-small-en.tar.gz\",\n",
      "    \"_deprecated_tar_struct\": true\n",
      "  },\n",
      "  \"model_file\": \"model_optimized.onnx\",\n",
      "  \"description\": \"Text embeddings, Unimodal (text), English, 512 input tokens truncation, Prefixes for queries/documents: necessary, 2023 year.\",\n",
      "  \"license\": \"mit\",\n",
      "  \"size_in_GB\": 0.13,\n",
      "  \"additional_files\": [],\n",
      "  \"dim\": 384,\n",
      "  \"tasks\": {}\n",
      "}\n"
     ]
    }
   ],
   "source": [
    "import json\n",
    "\n",
    "for model in TextEmbedding.list_supported_models():\n",
    "    if model[\"model\"] == model_handle:\n",
    "        print(json.dumps(model, indent=2))"
   ]
  },
  {
   "cell_type": "markdown",
   "id": "a3ad3094-9dcc-47b2-902d-20f63d6b979e",
   "metadata": {},
   "source": [
    "## Q6. Indexing with qdrant "
   ]
  },
  {
   "cell_type": "code",
   "execution_count": 83,
   "id": "b6d4b4e2-5b8b-4e04-a72a-5cf533344146",
   "metadata": {},
   "outputs": [],
   "source": [
    "import requests \n",
    "\n",
    "docs_url = 'https://github.com/alexeygrigorev/llm-rag-workshop/raw/main/notebooks/documents.json'\n",
    "docs_response = requests.get(docs_url)\n",
    "documents_raw = docs_response.json()\n",
    "\n",
    "\n",
    "documents = []\n",
    "\n",
    "for course in documents_raw:\n",
    "    course_name = course['course']\n",
    "    if course_name != 'machine-learning-zoomcamp':\n",
    "        continue\n",
    "\n",
    "    for doc in course['documents']:\n",
    "        doc['course'] = course_name\n",
    "        documents.append(doc)"
   ]
  },
  {
   "cell_type": "code",
   "execution_count": 86,
   "id": "05536e86-9a39-4d67-acf0-0d59a6431eee",
   "metadata": {},
   "outputs": [],
   "source": [
    "from qdrant_client import QdrantClient, models\n",
    "qd_client = QdrantClient(\"http://localhost:6333\")"
   ]
  },
  {
   "cell_type": "code",
   "execution_count": 87,
   "id": "52414e1d-ac5a-4815-b753-51fdf6fa5343",
   "metadata": {},
   "outputs": [],
   "source": [
    "EMBEDDING_DIMENSIONALITY = 384\n",
    "model_handle = \"BAAI/bge-small-en\""
   ]
  },
  {
   "cell_type": "code",
   "execution_count": 88,
   "id": "4f815b42-62a1-4f24-9fba-21e1ac1cb624",
   "metadata": {},
   "outputs": [],
   "source": [
    "collection_name = \"zoomcamp-hw\""
   ]
  },
  {
   "cell_type": "code",
   "execution_count": 89,
   "id": "5dc522a0-19cf-49fa-bf64-1fb28065e646",
   "metadata": {},
   "outputs": [
    {
     "data": {
      "text/plain": [
       "True"
      ]
     },
     "execution_count": 89,
     "metadata": {},
     "output_type": "execute_result"
    }
   ],
   "source": [
    "qd_client.create_collection(\n",
    "    collection_name=collection_name,\n",
    "    vectors_config=models.VectorParams(\n",
    "        size=EMBEDDING_DIMENSIONALITY,\n",
    "        distance=models.Distance.COSINE\n",
    "    )\n",
    ")"
   ]
  },
  {
   "cell_type": "code",
   "execution_count": 90,
   "id": "060c5512-2213-446d-9f22-91fa24fbb861",
   "metadata": {},
   "outputs": [],
   "source": [
    "points = []\n",
    "\n",
    "for i, doc in enumerate(documents):\n",
    "    text = doc['question'] + ' ' + doc['text']\n",
    "    vector = models.Document(text=text, model=model_handle)\n",
    "    point = models.PointStruct(\n",
    "        id=i,\n",
    "        vector=vector,\n",
    "        payload=doc\n",
    "    )\n",
    "    points.append(point)"
   ]
  },
  {
   "cell_type": "code",
   "execution_count": 91,
   "id": "6adf252e-79d5-4e47-a073-0963c93fd17a",
   "metadata": {},
   "outputs": [
    {
     "data": {
      "text/plain": [
       "PointStruct(id=0, vector=Document(text='How do I sign up? Machine Learning Zoomcamp FAQ\\nThe purpose of this document is to capture frequently asked technical questions.\\nWe did this for our data engineering course and it worked quite well. Check this document for inspiration on how to structure your questions and answers:\\nData Engineering Zoomcamp FAQ\\nIn the course GitHub repository there’s a link. Here it is: https://airtable.com/shryxwLd0COOEaqXo\\nwork', model='BAAI/bge-small-en', options=None), payload={'text': 'Machine Learning Zoomcamp FAQ\\nThe purpose of this document is to capture frequently asked technical questions.\\nWe did this for our data engineering course and it worked quite well. Check this document for inspiration on how to structure your questions and answers:\\nData Engineering Zoomcamp FAQ\\nIn the course GitHub repository there’s a link. Here it is: https://airtable.com/shryxwLd0COOEaqXo\\nwork', 'section': 'General course-related questions', 'question': 'How do I sign up?', 'course': 'machine-learning-zoomcamp'})"
      ]
     },
     "execution_count": 91,
     "metadata": {},
     "output_type": "execute_result"
    }
   ],
   "source": [
    "points[0]"
   ]
  },
  {
   "cell_type": "code",
   "execution_count": 92,
   "id": "5c02776d-5f28-4604-ae00-1630ce1335e3",
   "metadata": {},
   "outputs": [
    {
     "data": {
      "text/plain": [
       "UpdateResult(operation_id=0, status=<UpdateStatus.COMPLETED: 'completed'>)"
      ]
     },
     "execution_count": 92,
     "metadata": {},
     "output_type": "execute_result"
    }
   ],
   "source": [
    "qd_client.upsert(\n",
    "    collection_name=collection_name,\n",
    "    points=points\n",
    ")"
   ]
  },
  {
   "cell_type": "code",
   "execution_count": 93,
   "id": "80c7c1f9-787e-40ee-a98d-1683a3b7dd94",
   "metadata": {},
   "outputs": [],
   "source": [
    "question = \"I just discovered the course. Can I join now?\""
   ]
  },
  {
   "cell_type": "code",
   "execution_count": 94,
   "id": "7d12ed2e-bfbe-46e4-8de4-68c939b980c8",
   "metadata": {},
   "outputs": [],
   "source": [
    "query_points = qd_client.query_points(\n",
    "    collection_name=collection_name,\n",
    "    query=models.Document(\n",
    "        text=question,\n",
    "        model=model_handle \n",
    "    ),\n",
    "    limit=5,\n",
    "    with_payload=True\n",
    ")"
   ]
  },
  {
   "cell_type": "code",
   "execution_count": 99,
   "id": "aeb17e47-c9a5-4883-890a-5713ca84c589",
   "metadata": {},
   "outputs": [
    {
     "name": "stdout",
     "output_type": "stream",
     "text": [
      "score:0.8703172\n",
      "score:0.86918855\n",
      "score:0.86833113\n",
      "score:0.8576106\n",
      "score:0.85715395\n"
     ]
    }
   ],
   "source": [
    "p_score = []\n",
    "for point in query_points.points:\n",
    "    print(f'score:{point.score}')\n",
    "    p_score.append(point.score)"
   ]
  },
  {
   "cell_type": "code",
   "execution_count": 100,
   "id": "8748a816-a7ad-4101-ae14-e1ce48ad19c7",
   "metadata": {},
   "outputs": [
    {
     "data": {
      "text/plain": [
       "0.8703172"
      ]
     },
     "execution_count": 100,
     "metadata": {},
     "output_type": "execute_result"
    }
   ],
   "source": [
    "max(p_score)"
   ]
  },
  {
   "cell_type": "code",
   "execution_count": null,
   "id": "7692261d-b476-4b1f-ac71-b05a6e33fd4b",
   "metadata": {},
   "outputs": [],
   "source": []
  }
 ],
 "metadata": {
  "kernelspec": {
   "display_name": "Python 3 (ipykernel)",
   "language": "python",
   "name": "python3"
  },
  "language_info": {
   "codemirror_mode": {
    "name": "ipython",
    "version": 3
   },
   "file_extension": ".py",
   "mimetype": "text/x-python",
   "name": "python",
   "nbconvert_exporter": "python",
   "pygments_lexer": "ipython3",
   "version": "3.12.1"
  }
 },
 "nbformat": 4,
 "nbformat_minor": 5
}
