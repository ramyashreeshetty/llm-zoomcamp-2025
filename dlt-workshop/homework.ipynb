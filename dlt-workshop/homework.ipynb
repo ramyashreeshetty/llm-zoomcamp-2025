{
 "cells": [
  {
   "cell_type": "markdown",
   "id": "c68e1d35-ffe1-4f7f-96c3-e9399aa5d603",
   "metadata": {},
   "source": [
    "## Q1. What is the dlt version?"
   ]
  },
  {
   "cell_type": "code",
   "execution_count": 1,
   "id": "f83857fa-68de-46c0-93a2-f99e9751e653",
   "metadata": {},
   "outputs": [
    {
     "name": "stdout",
     "output_type": "stream",
     "text": [
      "Note: you may need to restart the kernel to use updated packages.\n"
     ]
    }
   ],
   "source": [
    "pip install -q \"dlt[qdrant]\" \"qdrant-client[fastembed]\""
   ]
  },
  {
   "cell_type": "code",
   "execution_count": 8,
   "id": "33c9f3ec-be0d-4281-b316-07afd083dadd",
   "metadata": {},
   "outputs": [
    {
     "name": "stdout",
     "output_type": "stream",
     "text": [
      "1.12.3\n"
     ]
    }
   ],
   "source": [
    "import dlt\n",
    "print(dlt.__version__)"
   ]
  },
  {
   "cell_type": "code",
   "execution_count": 1,
   "id": "792a83bb-26df-44c9-bb79-8501d6f85474",
   "metadata": {},
   "outputs": [],
   "source": [
    "@dlt.resource\n",
    "def zoomcamp_data():\n",
    "    docs_url = 'https://github.com/alexeygrigorev/llm-rag-workshop/raw/main/notebooks/documents.json'\n",
    "    docs_response = requests.get(docs_url)\n",
    "    documents_raw = docs_response.json()\n",
    "\n",
    "    for course in documents_raw:\n",
    "        course_name = course['course']\n",
    "\n",
    "        for doc in course['documents']:\n",
    "            doc['course'] = course_name\n",
    "            yield doc"
   ]
  },
  {
   "cell_type": "code",
   "execution_count": 4,
   "id": "6ede75fc-7963-4ab9-8f94-5c667fbc3011",
   "metadata": {},
   "outputs": [
    {
     "data": {
      "text/plain": [
       "<generator object zoomcamp_data at 0x76db743fdf40>"
      ]
     },
     "execution_count": 4,
     "metadata": {},
     "output_type": "execute_result"
    }
   ],
   "source": [
    "zoomcamp_data()"
   ]
  },
  {
   "cell_type": "markdown",
   "id": "7f96a52e-a534-4e6d-9cec-306ac4bf604a",
   "metadata": {},
   "source": [
    "##  Q2. How many rows were inserted into the zoomcamp_data collection?"
   ]
  },
  {
   "cell_type": "code",
   "execution_count": 11,
   "id": "bdd67129-e7b2-4da6-82ea-78118a81d063",
   "metadata": {},
   "outputs": [],
   "source": [
    "from dlt.destinations import qdrant\n",
    "import requests\n",
    "\n",
    "qdrant_destination = qdrant(\n",
    "  qd_path=\"db.qdrant\", \n",
    ")"
   ]
  },
  {
   "cell_type": "code",
   "execution_count": 12,
   "id": "3b533881-0853-433f-bcd7-bc27aa8d0cf4",
   "metadata": {},
   "outputs": [
    {
     "name": "stdout",
     "output_type": "stream",
     "text": [
      "Run started at 2025-07-08 12:29:00.905118+00:00 and COMPLETED in 9.02 seconds with 4 steps.\n",
      "Step extract COMPLETED in 1.04 seconds.\n",
      "\n",
      "Load package 1751977741.922287 is EXTRACTED and NOT YET LOADED to the destination and contains no failed jobs\n",
      "\n",
      "Step normalize COMPLETED in 0.08 seconds.\n",
      "Normalized data for the following tables:\n",
      "- _dlt_pipeline_state: 1 row(s)\n",
      "- zoomcamp_data: 948 row(s)\n",
      "\n",
      "Load package 1751977741.922287 is NORMALIZED and NOT YET LOADED to the destination and contains no failed jobs\n",
      "\n",
      "Step load COMPLETED in 6.88 seconds.\n",
      "Pipeline zoomcamp_pipeline load step completed in 6.87 seconds\n",
      "1 load package(s) were loaded to destination qdrant and into dataset zoomcamp_tagged_data\n",
      "The qdrant destination used /workspaces/llm-zoomcamp-2025/dlt-workshop/db.qdrant location to store data\n",
      "Load package 1751977741.922287 is LOADED and contains no failed jobs\n",
      "\n",
      "Step run COMPLETED in 9.02 seconds.\n",
      "Pipeline zoomcamp_pipeline load step completed in 6.87 seconds\n",
      "1 load package(s) were loaded to destination qdrant and into dataset zoomcamp_tagged_data\n",
      "The qdrant destination used /workspaces/llm-zoomcamp-2025/dlt-workshop/db.qdrant location to store data\n",
      "Load package 1751977741.922287 is LOADED and contains no failed jobs\n"
     ]
    }
   ],
   "source": [
    "pipeline = dlt.pipeline(\n",
    "    pipeline_name=\"zoomcamp_pipeline\",\n",
    "    destination=qdrant_destination,\n",
    "    dataset_name=\"zoomcamp_tagged_data\"\n",
    "\n",
    ")\n",
    "load_info = pipeline.run(zoomcamp_data())\n",
    "print(pipeline.last_trace)"
   ]
  },
  {
   "cell_type": "code",
   "execution_count": 25,
   "id": "8001157f-b693-4a43-8017-74c7ad47561e",
   "metadata": {},
   "outputs": [
    {
     "data": {
      "text/html": [
       "<div>\n",
       "<style scoped>\n",
       "    .dataframe tbody tr th:only-of-type {\n",
       "        vertical-align: middle;\n",
       "    }\n",
       "\n",
       "    .dataframe tbody tr th {\n",
       "        vertical-align: top;\n",
       "    }\n",
       "\n",
       "    .dataframe thead th {\n",
       "        text-align: right;\n",
       "    }\n",
       "</style>\n",
       "<table border=\"1\" class=\"dataframe\">\n",
       "  <thead>\n",
       "    <tr style=\"text-align: right;\">\n",
       "      <th></th>\n",
       "      <th>collections</th>\n",
       "      <th>aliases</th>\n",
       "    </tr>\n",
       "  </thead>\n",
       "  <tbody>\n",
       "    <tr>\n",
       "      <th>zoomcamp_tagged_data</th>\n",
       "      <td>{'vectors': {'fast-bge-small-en': {'size': 384...</td>\n",
       "      <td>NaN</td>\n",
       "    </tr>\n",
       "    <tr>\n",
       "      <th>zoomcamp_tagged_data__dlt_loads</th>\n",
       "      <td>{'vectors': {'fast-bge-small-en': {'size': 384...</td>\n",
       "      <td>NaN</td>\n",
       "    </tr>\n",
       "    <tr>\n",
       "      <th>zoomcamp_tagged_data__dlt_pipeline_state</th>\n",
       "      <td>{'vectors': {'fast-bge-small-en': {'size': 384...</td>\n",
       "      <td>NaN</td>\n",
       "    </tr>\n",
       "    <tr>\n",
       "      <th>zoomcamp_tagged_data_zoomcamp_data</th>\n",
       "      <td>{'vectors': {'fast-bge-small-en': {'size': 384...</td>\n",
       "      <td>NaN</td>\n",
       "    </tr>\n",
       "    <tr>\n",
       "      <th>zoomcamp_tagged_data__dlt_version</th>\n",
       "      <td>{'vectors': {'fast-bge-small-en': {'size': 384...</td>\n",
       "      <td>NaN</td>\n",
       "    </tr>\n",
       "  </tbody>\n",
       "</table>\n",
       "</div>"
      ],
      "text/plain": [
       "                                                                                collections  \\\n",
       "zoomcamp_tagged_data                      {'vectors': {'fast-bge-small-en': {'size': 384...   \n",
       "zoomcamp_tagged_data__dlt_loads           {'vectors': {'fast-bge-small-en': {'size': 384...   \n",
       "zoomcamp_tagged_data__dlt_pipeline_state  {'vectors': {'fast-bge-small-en': {'size': 384...   \n",
       "zoomcamp_tagged_data_zoomcamp_data        {'vectors': {'fast-bge-small-en': {'size': 384...   \n",
       "zoomcamp_tagged_data__dlt_version         {'vectors': {'fast-bge-small-en': {'size': 384...   \n",
       "\n",
       "                                          aliases  \n",
       "zoomcamp_tagged_data                          NaN  \n",
       "zoomcamp_tagged_data__dlt_loads               NaN  \n",
       "zoomcamp_tagged_data__dlt_pipeline_state      NaN  \n",
       "zoomcamp_tagged_data_zoomcamp_data            NaN  \n",
       "zoomcamp_tagged_data__dlt_version             NaN  "
      ]
     },
     "execution_count": 25,
     "metadata": {},
     "output_type": "execute_result"
    }
   ],
   "source": [
    "import pandas as pd\n",
    "df = pd.read_json('db.qdrant/meta.json')\n",
    "df"
   ]
  },
  {
   "cell_type": "code",
   "execution_count": null,
   "id": "865cc5bc-ab7c-4080-9221-863197131e41",
   "metadata": {},
   "outputs": [],
   "source": []
  },
  {
   "cell_type": "code",
   "execution_count": null,
   "id": "16e926a5-3ec3-4983-a5c7-10940467d5bd",
   "metadata": {},
   "outputs": [],
   "source": []
  },
  {
   "cell_type": "code",
   "execution_count": null,
   "id": "5698c7d4-8601-4085-99d4-d334a43e7777",
   "metadata": {},
   "outputs": [],
   "source": []
  },
  {
   "cell_type": "code",
   "execution_count": null,
   "id": "aeae7418-ef42-4928-a20c-e8492d853770",
   "metadata": {},
   "outputs": [],
   "source": []
  },
  {
   "cell_type": "code",
   "execution_count": null,
   "id": "91cb65a6-085c-4dd6-9069-88e7c0b8483a",
   "metadata": {},
   "outputs": [],
   "source": []
  }
 ],
 "metadata": {
  "kernelspec": {
   "display_name": "Python 3 (ipykernel)",
   "language": "python",
   "name": "python3"
  },
  "language_info": {
   "codemirror_mode": {
    "name": "ipython",
    "version": 3
   },
   "file_extension": ".py",
   "mimetype": "text/x-python",
   "name": "python",
   "nbconvert_exporter": "python",
   "pygments_lexer": "ipython3",
   "version": "3.12.1"
  }
 },
 "nbformat": 4,
 "nbformat_minor": 5
}
